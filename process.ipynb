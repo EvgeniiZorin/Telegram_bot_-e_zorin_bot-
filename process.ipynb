{
 "cells": [
  {
   "cell_type": "code",
   "execution_count": 3,
   "metadata": {},
   "outputs": [
    {
     "name": "stdout",
     "output_type": "stream",
     "text": [
      "TELEBOT_API: 5624285318:AAFHaK3KMKj5_J75Ymvf4rCLr2ggIL21tWM\n",
      "OWM_API: 245ade4c3a60e993b30476c52868eacc\n"
     ]
    }
   ],
   "source": [
    "import os\n",
    "\n",
    "print( f\"TELEBOT_API: {os.environ.get('TELEBOT_API')}\" )\n",
    "print( f\"OWM_API: {os.environ.get('OWM_API')}\" )"
   ]
  },
  {
   "cell_type": "code",
   "execution_count": 4,
   "metadata": {},
   "outputs": [
    {
     "data": {
      "text/plain": [
       "{'ok': True,\n",
       " 'result': {'id': 5624285318,\n",
       "  'is_bot': True,\n",
       "  'first_name': 'Zorin bot',\n",
       "  'username': 'e_zorin_bot',\n",
       "  'can_join_groups': True,\n",
       "  'can_read_all_group_messages': False,\n",
       "  'supports_inline_queries': False}}"
      ]
     },
     "execution_count": 4,
     "metadata": {},
     "output_type": "execute_result"
    }
   ],
   "source": [
    "import requests\n",
    "import os\n",
    "token = os.environ.get('TELEBOT_API')\n",
    "method_name = 'getMe'\n",
    "\n",
    "\n",
    "link = f'https://api.telegram.org/bot{token}/{method_name}'\n",
    "r = requests.get(link)\n",
    "r.json()"
   ]
  },
  {
   "cell_type": "code",
   "execution_count": 3,
   "metadata": {},
   "outputs": [
    {
     "data": {
      "text/plain": [
       "{'ok': True, 'result': []}"
      ]
     },
     "execution_count": 3,
     "metadata": {},
     "output_type": "execute_result"
    }
   ],
   "source": [
    "import requests\n",
    "import os\n",
    "\n",
    "token = os.environ.get('TELEBOT_API')\n",
    "\n",
    "method_name = 'getUpdates'\n",
    "link = f'https://api.telegram.org/bot{token}/{method_name}'\n",
    "r = requests.get(link)\n",
    "r.json()"
   ]
  }
 ],
 "metadata": {
  "kernelspec": {
   "display_name": "Python 3.10.6 64-bit",
   "language": "python",
   "name": "python3"
  },
  "language_info": {
   "codemirror_mode": {
    "name": "ipython",
    "version": 3
   },
   "file_extension": ".py",
   "mimetype": "text/x-python",
   "name": "python",
   "nbconvert_exporter": "python",
   "pygments_lexer": "ipython3",
   "version": "3.10.6"
  },
  "orig_nbformat": 4,
  "vscode": {
   "interpreter": {
    "hash": "ddfef2dff3b289ad6149ca203ea5c3e5eaf5f756391d68f0c5d6060d3fe964ec"
   }
  }
 },
 "nbformat": 4,
 "nbformat_minor": 2
}
